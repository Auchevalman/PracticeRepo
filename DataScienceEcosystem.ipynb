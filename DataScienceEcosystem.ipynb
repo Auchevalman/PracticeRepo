{
 "cells": [
  {
   "cell_type": "markdown",
   "id": "dcbb0b03",
   "metadata": {},
   "source": [
    "# Data Science and Ecosystem "
   ]
  },
  {
   "cell_type": "markdown",
   "id": "53e735ea",
   "metadata": {},
   "source": [
    "In this Notebook, Data Science Tools and Ecosystems are summarized."
   ]
  },
  {
   "cell_type": "markdown",
   "id": "62ac0024",
   "metadata": {},
   "source": [
    "**Objectives**\n",
    "- List Popular languages of Data Scientists\n",
    "- Libraries used by Data Scientist\n",
    "- Arithmetic Expressions in Python"
   ]
  },
  {
   "cell_type": "markdown",
   "id": "29c0eb95",
   "metadata": {},
   "source": [
    "Some of the popular languages that Data Scientists use are:\n",
    "1. SQL\n",
    "2. Python\n",
    "3. R\n"
   ]
  },
  {
   "cell_type": "markdown",
   "id": "42a79964",
   "metadata": {},
   "source": [
    "Some of the commonly used libraries used by Data scientists.\n",
    "1. Matlib\n",
    "2. ggplot \n",
    "3. numpy\n"
   ]
  },
  {
   "cell_type": "markdown",
   "id": "e3da7ac1",
   "metadata": {},
   "source": [
    "| Data Science Tools |\n",
    "|--------------------|\n",
    "|RStudio|\n",
    "|Juypter Notebooks|\n",
    "|Juypter Labs|"
   ]
  },
  {
   "cell_type": "markdown",
   "id": "32ba344b",
   "metadata": {},
   "source": [
    "### Below are a few examples of evaluating arithmetic expressions in Python"
   ]
  },
  {
   "cell_type": "code",
   "execution_count": 1,
   "id": "29a76ca1",
   "metadata": {},
   "outputs": [
    {
     "data": {
      "text/plain": [
       "17"
      ]
     },
     "execution_count": 1,
     "metadata": {},
     "output_type": "execute_result"
    }
   ],
   "source": [
    "#This is a simple arithmetic expression to multiply then add integers\n",
    "(3*4)+5"
   ]
  },
  {
   "cell_type": "code",
   "execution_count": 3,
   "id": "6b637ff2",
   "metadata": {},
   "outputs": [
    {
     "name": "stdout",
     "output_type": "stream",
     "text": [
      "3.3333333333333335 hours\n"
     ]
    }
   ],
   "source": [
    "#This will convert 200 minutes into hours by dividing by 60.\n",
    "x=200/60\n",
    "print(x, \"hours\")"
   ]
  },
  {
   "cell_type": "markdown",
   "id": "4803bdc7",
   "metadata": {},
   "source": [
    "## Author\n",
    "Sean Chaikin"
   ]
  },
  {
   "cell_type": "code",
   "execution_count": null,
   "id": "926cba36",
   "metadata": {},
   "outputs": [],
   "source": []
  }
 ],
 "metadata": {
  "kernelspec": {
   "display_name": "Python 3 (ipykernel)",
   "language": "python",
   "name": "python3"
  },
  "language_info": {
   "codemirror_mode": {
    "name": "ipython",
    "version": 3
   },
   "file_extension": ".py",
   "mimetype": "text/x-python",
   "name": "python",
   "nbconvert_exporter": "python",
   "pygments_lexer": "ipython3",
   "version": "3.10.9"
  }
 },
 "nbformat": 4,
 "nbformat_minor": 5
}
